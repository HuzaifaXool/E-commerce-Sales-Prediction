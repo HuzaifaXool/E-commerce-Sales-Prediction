{
 "cells": [
  {
   "cell_type": "code",
   "execution_count": 1,
   "id": "df7544c2",
   "metadata": {},
   "outputs": [
    {
     "ename": "ModuleNotFoundError",
     "evalue": "No module named 'seaborn'",
     "output_type": "error",
     "traceback": [
      "\u001b[0;31m---------------------------------------------------------------------------\u001b[0m",
      "\u001b[0;31mModuleNotFoundError\u001b[0m                       Traceback (most recent call last)",
      "Cell \u001b[0;32mIn[1], line 3\u001b[0m\n\u001b[1;32m      1\u001b[0m \u001b[38;5;28;01mimport\u001b[39;00m \u001b[38;5;21;01mpandas\u001b[39;00m \u001b[38;5;28;01mas\u001b[39;00m \u001b[38;5;21;01mpd\u001b[39;00m\n\u001b[1;32m      2\u001b[0m \u001b[38;5;28;01mimport\u001b[39;00m \u001b[38;5;21;01mmatplotlib\u001b[39;00m\u001b[38;5;21;01m.\u001b[39;00m\u001b[38;5;21;01mpyplot\u001b[39;00m \u001b[38;5;28;01mas\u001b[39;00m \u001b[38;5;21;01mplt\u001b[39;00m\n\u001b[0;32m----> 3\u001b[0m \u001b[38;5;28;01mimport\u001b[39;00m \u001b[38;5;21;01mseaborn\u001b[39;00m \u001b[38;5;28;01mas\u001b[39;00m \u001b[38;5;21;01msns\u001b[39;00m\n\u001b[1;32m      4\u001b[0m \u001b[38;5;28;01mimport\u001b[39;00m \u001b[38;5;21;01msquarify\u001b[39;00m\n",
      "\u001b[0;31mModuleNotFoundError\u001b[0m: No module named 'seaborn'"
     ]
    }
   ],
   "source": [
    "import pandas as pd\n",
    "import matplotlib.pyplot as plt\n",
    "import seaborn as sns\n",
    "import squarify"
   ]
  },
  {
   "cell_type": "code",
   "execution_count": 2,
   "id": "d1bcff99",
   "metadata": {},
   "outputs": [],
   "source": [
    "import warnings\n",
    "warnings.simplefilter(action='ignore', category=FutureWarning)"
   ]
  },
  {
   "cell_type": "code",
   "execution_count": 3,
   "id": "dd3b18d7",
   "metadata": {},
   "outputs": [],
   "source": [
    "data=pd.read_csv(\"/home/mrkernal/Project/processed_data/cleaned_data.csv\")"
   ]
  },
  {
   "cell_type": "code",
   "execution_count": null,
   "id": "11125d4f",
   "metadata": {},
   "outputs": [],
   "source": [
    "data.head()"
   ]
  },
  {
   "cell_type": "code",
   "execution_count": null,
   "id": "d1ec1262",
   "metadata": {},
   "outputs": [],
   "source": [
    "plt.figure(figsize=(10,6))\n",
    "sns.histplot(data['Units_Sold'],kde=True,color='g',bins=12)\n",
    "plt.grid(True,alpha=0.12,color='red')\n",
    "plt.title('Distribution of Units sold')\n",
    "plt.show()"
   ]
  },
  {
   "cell_type": "code",
   "execution_count": null,
   "id": "9557a453",
   "metadata": {},
   "outputs": [],
   "source": [
    "plt.figure(figsize=(10,6))\n",
    "sns.histplot(data['Discount'],kde=True,color='r',bins=12)\n",
    "plt.title('Distribution of Discount')\n",
    "plt.show()"
   ]
  },
  {
   "cell_type": "code",
   "execution_count": null,
   "id": "441ed059",
   "metadata": {},
   "outputs": [],
   "source": [
    "data['Product_Category'].value_counts().reset_index()"
   ]
  },
  {
   "cell_type": "code",
   "execution_count": 7,
   "id": "6bcef5a5",
   "metadata": {},
   "outputs": [],
   "source": [
    "# Product Category Distribution"
   ]
  },
  {
   "cell_type": "code",
   "execution_count": null,
   "id": "a734e9f2",
   "metadata": {},
   "outputs": [],
   "source": [
    "plt.show()\n",
    "viz=sns.countplot(data['Product_Category'],palette='Set1')\n",
    "plt.title('Count of Product_cat sold')\n",
    "plt.xlabel('Frequency')\n",
    "plt.ylabel('Product_Category')\n",
    "plt.show()"
   ]
  },
  {
   "cell_type": "code",
   "execution_count": 9,
   "id": "dce73ced",
   "metadata": {},
   "outputs": [],
   "source": [
    "# Product category sales wise"
   ]
  },
  {
   "cell_type": "code",
   "execution_count": 10,
   "id": "be6b9a80",
   "metadata": {},
   "outputs": [],
   "source": [
    "sales_wise_cat=data.groupby('Product_Category')['Units_Sold'].sum().rename('Total_sales').reset_index()\n",
    "sales_wise_cat=sales_wise_cat.sort_values(by='Total_sales',ascending=False)"
   ]
  },
  {
   "cell_type": "code",
   "execution_count": null,
   "id": "93ea47a3",
   "metadata": {},
   "outputs": [],
   "source": [
    "sales_wise_cat"
   ]
  },
  {
   "cell_type": "code",
   "execution_count": null,
   "id": "c6f594cf",
   "metadata": {},
   "outputs": [],
   "source": [
    "plt.figure(figsize=(10,5))\n",
    "plt.pie(sales_wise_cat['Total_sales'],labels=sales_wise_cat['Product_Category'],shadow=True,autopct=\"%1.2f\")\n",
    "plt.title('Total sales of Product')\n",
    "plt.legend(loc='center',bbox_to_anchor=(1.2, 0.5))\n",
    "plt.show()"
   ]
  },
  {
   "cell_type": "code",
   "execution_count": 13,
   "id": "519f21e6",
   "metadata": {},
   "outputs": [],
   "source": [
    "# correaltion"
   ]
  },
  {
   "cell_type": "code",
   "execution_count": 14,
   "id": "4746568f",
   "metadata": {},
   "outputs": [],
   "source": [
    "numerial_df=data.select_dtypes('number')\n",
    "filtered_data=numerial_df.drop(columns=['Month', 'year', 'Day'])\n",
    "correaltion=filtered_data.corr()"
   ]
  },
  {
   "cell_type": "code",
   "execution_count": null,
   "id": "4a7418e2",
   "metadata": {},
   "outputs": [],
   "source": [
    "sns.heatmap(correaltion,annot=True,cmap='coolwarm')\n",
    "plt.title('Correlation of numerical values')\n",
    "plt.show()"
   ]
  },
  {
   "cell_type": "code",
   "execution_count": 22,
   "id": "4167ff59",
   "metadata": {},
   "outputs": [],
   "source": [
    "year_wise_cat_sales=data.groupby(['year','Product_Category'])['Units_Sold'].sum().rename('Total_sales').reset_index()"
   ]
  },
  {
   "cell_type": "code",
   "execution_count": null,
   "id": "94e289c4",
   "metadata": {},
   "outputs": [],
   "source": [
    "plt.figure(figsize=(15,6))\n",
    "sns.barplot(x=year_wise_cat_sales['year'],y=year_wise_cat_sales['Total_sales'],\n",
    "            hue=year_wise_cat_sales['Product_Category'])\n",
    "plt.title('Year Wise Total Sales of Product')\n",
    "plt.show()"
   ]
  },
  {
   "cell_type": "code",
   "execution_count": null,
   "id": "f44b466b",
   "metadata": {},
   "outputs": [],
   "source": [
    "plt.figure(figsize=(14, 8))\n",
    "sns.boxenplot(x=data['Product_Category'],y=data['Price'],hue=data['Customer_Segment'],palette='coolwarm')\n",
    "plt.title('Price Distribution by Product Category and Customer Segment (Boxen Plot)', fontsize=16)\n",
    "plt.xlabel('Product Category', fontsize=12)\n",
    "plt.ylabel('Price', fontsize=12)\n",
    "plt.legend(title='Customer Segment', loc='upper right')\n",
    "plt.xticks(rotation=45)\n",
    "plt.tight_layout()\n",
    "plt.show()\n"
   ]
  },
  {
   "cell_type": "code",
   "execution_count": 55,
   "id": "c5be2db6",
   "metadata": {},
   "outputs": [],
   "source": [
    "month_wise_sales24=data.groupby(['year','Month'])['Units_Sold'].sum().rename('Month_Sales').reset_index()"
   ]
  },
  {
   "cell_type": "code",
   "execution_count": null,
   "id": "dfbeabcb",
   "metadata": {},
   "outputs": [],
   "source": [
    "plt.figure(figsize=(10,4))\n",
    "sns.lineplot(x=month_wise_sales24['Month'],y=month_wise_sales24['Month_Sales'],hue=month_wise_sales24['year']\n",
    "            ,palette='Set1')\n",
    "plt.xticks(ticks=month_wise_sales24['Month'])\n",
    "plt.title('Month Wise sales from 2023 to 2025')\n",
    "plt.grid(True,alpha=0.12)\n",
    "plt.show()"
   ]
  },
  {
   "cell_type": "code",
   "execution_count": 100,
   "id": "6eebee6b",
   "metadata": {},
   "outputs": [],
   "source": [
    "category_discount=data.groupby('Product_Category', as_index=False)['Discount'].mean().reset_index()"
   ]
  },
  {
   "cell_type": "code",
   "execution_count": null,
   "id": "737f7d79",
   "metadata": {},
   "outputs": [],
   "source": [
    "plt.figure(figsize=(8, 6))\n",
    "sns.heatmap(category_discount.set_index('Product_Category').sort_values('Discount',ascending=False), \n",
    "    annot=True, cmap='coolwarm', fmt=\".2f\", linewidths=2)\n",
    "plt.title('Average Discounts by Product Category')\n",
    "plt.xlabel('Average Discount')  \n",
    "plt.ylabel('Product Category')\n",
    "plt.show()\n"
   ]
  },
  {
   "cell_type": "code",
   "execution_count": null,
   "id": "3bdf220b",
   "metadata": {},
   "outputs": [],
   "source": [
    "plt.figure(figsize=(10, 6))\n",
    "sns.boxplot(x='Product_Category', y='Price', data=data, palette='Set1')\n",
    "plt.title('Comparison of Unit Price Across Product Categories')\n",
    "plt.xlabel('Product Category')\n",
    "plt.ylabel('Unit Price')\n",
    "plt.show()"
   ]
  },
  {
   "cell_type": "code",
   "execution_count": 88,
   "id": "106c19c5",
   "metadata": {},
   "outputs": [],
   "source": [
    "category_marketing=data.groupby('Product_Category').sum()['Marketing_Spend'].reset_index()"
   ]
  },
  {
   "cell_type": "code",
   "execution_count": null,
   "id": "99e4d681",
   "metadata": {},
   "outputs": [],
   "source": [
    "plt.figure(figsize=(10,6))\n",
    "squarify.plot(sizes=category_marketing['Marketing_Spend'],label=category_marketing['Product_Category'],\n",
    "              color=sns.color_palette('Set3'), \n",
    "              alpha=0.8)\n",
    "plt.title('Marketing Spend Distribution Across Categories')\n",
    "plt.axis('OFF')\n",
    "plt.show()"
   ]
  },
  {
   "cell_type": "code",
   "execution_count": null,
   "id": "16258672",
   "metadata": {},
   "outputs": [],
   "source": []
  }
 ],
 "metadata": {
  "kernelspec": {
   "display_name": "Python 3",
   "language": "python",
   "name": "python3"
  },
  "language_info": {
   "codemirror_mode": {
    "name": "ipython",
    "version": 3
   },
   "file_extension": ".py",
   "mimetype": "text/x-python",
   "name": "python",
   "nbconvert_exporter": "python",
   "pygments_lexer": "ipython3",
   "version": "3.12.8"
  }
 },
 "nbformat": 4,
 "nbformat_minor": 5
}
